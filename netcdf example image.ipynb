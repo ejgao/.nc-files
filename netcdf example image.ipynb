{
 "cells": [
  {
   "cell_type": "code",
   "execution_count": 1,
   "id": "b91c92c7",
   "metadata": {},
   "outputs": [
    {
     "name": "stdout",
     "output_type": "stream",
     "text": [
      "<class 'netCDF4._netCDF4.Dataset'>\n",
      "root group (NETCDF3_CLASSIC data model, file format NETCDF3):\n",
      "    channel: 6.7 micron water vapor\n",
      "    depictorName: conusFSD\n",
      "    projIndex: 3\n",
      "    projName: LAMBERT_CONFORMAL\n",
      "    centralLat: 25.0\n",
      "    centralLon: -95.0\n",
      "    rotation: 25.0\n",
      "    xMin: -0.1964591\n",
      "    xMax: 0.17448367\n",
      "    yMin: -0.8548177\n",
      "    yMax: -0.57784206\n",
      "    lat00: 55.460922\n",
      "    lon00: -139.43109\n",
      "    latNxNy: 18.18665\n",
      "    lonNxNy: -67.70203\n",
      "    dxKm: 4.8935204\n",
      "    dyKm: 4.893609\n",
      "    latDxDy: 41.140724\n",
      "    lonDxDy: -97.079384\n",
      "    dimensions(sizes): y(897), x(1201)\n",
      "    variables(dimensions): int8 \u001b[4mimage\u001b[0m(y,x), float64 \u001b[4mvalidTime\u001b[0m(), int8 \u001b[4mvalid100thSecs\u001b[0m()\n",
      "    groups: \n",
      "\n"
     ]
    },
    {
     "name": "stderr",
     "output_type": "stream",
     "text": [
      "C:\\Users\\Eric Gao\\Documents\\Python Scripts\\lib\\site-packages\\ipykernel_launcher.py:7: DeprecationWarning: tostring() is deprecated. Use tobytes() instead.\n",
      "  import sys\n"
     ]
    }
   ],
   "source": [
    "# using file 19981111_0045.nc \n",
    "\n",
    "#using netCDF4 \n",
    "from netCDF4 import Dataset\n",
    "sat_data = Dataset(\"19981111_0045.nc\")\n",
    "#access metadata\n",
    "print(sat_data)"
   ]
  },
  {
   "cell_type": "code",
   "execution_count": 3,
   "id": "41aee2af",
   "metadata": {},
   "outputs": [
    {
     "name": "stdout",
     "output_type": "stream",
     "text": [
      "['image', 'validTime', 'valid100thSecs']\n"
     ]
    }
   ],
   "source": [
    "variable_names = []\n",
    "for name in sat_data.variables:\n",
    "    variable_names.append(name)\n",
    "print(variable_names)"
   ]
  },
  {
   "cell_type": "code",
   "execution_count": 4,
   "id": "584b6499",
   "metadata": {},
   "outputs": [
    {
     "name": "stdout",
     "output_type": "stream",
     "text": [
      "<class 'numpy.ma.core.MaskedArray'>\n"
     ]
    },
    {
     "name": "stderr",
     "output_type": "stream",
     "text": [
      "C:\\Users\\Eric Gao\\Documents\\Python Scripts\\lib\\site-packages\\ipykernel_launcher.py:3: DeprecationWarning: `np.bool` is a deprecated alias for the builtin `bool`. To silence this warning, use `bool` by itself. Doing this will not modify any behavior and is safe. If you specifically wanted the numpy scalar type, use `np.bool_` here.\n",
      "Deprecated in NumPy 1.20; for more details and guidance: https://numpy.org/devdocs/release/1.20.0-notes.html#deprecations\n",
      "  This is separate from the ipykernel package so we can avoid doing imports until\n"
     ]
    }
   ],
   "source": [
    "all_var_arrays = []\n",
    "for i in range(len(variable_names)):\n",
    "    all_var_arrays.append(sat_data[variable_names[i]][:])\n",
    "#all_var_arrays is a list that stores each variable's inputs as a numpy array, as we can see below.\n",
    "print(type(all_var_arrays[1]))"
   ]
  },
  {
   "cell_type": "code",
   "execution_count": 7,
   "id": "01ed5e0d",
   "metadata": {},
   "outputs": [
    {
     "data": {
      "text/plain": [
       "masked_array(\n",
       "  data=[[  0,   0,   0, ..., -87, -87, -87],\n",
       "        [  0,   0,   0, ..., -87, -87, -87],\n",
       "        [  0,   0,   0, ..., -87, -87, -87],\n",
       "        ...,\n",
       "        [  0,   0,   0, ...,  54,  54,  56],\n",
       "        [  0,   0,   0, ...,  57,  57,  57],\n",
       "        [  0,   0,   0, ...,  58,  58,  59]],\n",
       "  mask=False,\n",
       "  fill_value=999999,\n",
       "  dtype=int8)"
      ]
     },
     "execution_count": 7,
     "metadata": {},
     "output_type": "execute_result"
    }
   ],
   "source": [
    "#image variable\n",
    "all_var_arrays[0]"
   ]
  },
  {
   "cell_type": "code",
   "execution_count": 8,
   "id": "d087aabe",
   "metadata": {},
   "outputs": [
    {
     "data": {
      "text/plain": [
       "(897, 1201)"
      ]
     },
     "execution_count": 8,
     "metadata": {},
     "output_type": "execute_result"
    }
   ],
   "source": [
    "all_var_arrays[0].shape"
   ]
  }
 ],
 "metadata": {
  "kernelspec": {
   "display_name": "Python 3",
   "language": "python",
   "name": "python3"
  },
  "language_info": {
   "codemirror_mode": {
    "name": "ipython",
    "version": 3
   },
   "file_extension": ".py",
   "mimetype": "text/x-python",
   "name": "python",
   "nbconvert_exporter": "python",
   "pygments_lexer": "ipython3",
   "version": "3.7.3"
  }
 },
 "nbformat": 4,
 "nbformat_minor": 5
}
