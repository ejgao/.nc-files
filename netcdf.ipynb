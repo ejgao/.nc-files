{
 "cells": [
  {
   "cell_type": "code",
   "execution_count": 1,
   "id": "b8b184d2",
   "metadata": {},
   "outputs": [
    {
     "name": "stdout",
     "output_type": "stream",
     "text": [
      "<class 'netCDF4._netCDF4.Dataset'>\n",
      "root group (NETCDF3_CLASSIC data model, file format NETCDF3):\n",
      "    CVS_Id: $Id$\n",
      "    creation_date: \n",
      "    prg_ID: Source file unknown Version unknown Date unknown\n",
      "    cmd_ln: bds -x 256 -y 128 -m 23 -o /data/zender/data/dst_T85.nc\n",
      "    history: Tue Oct 25 15:08:51 2005: ncks -O -x -v va -m sresa1b_ncar_ccsm3_0_run1_200001.nc sresa1b_ncar_ccsm3_0_run1_200001.nc\n",
      "Tue Oct 25 15:07:21 2005: ncks -d time,0 sresa1b_ncar_ccsm3_0_run1_200001_201912.nc sresa1b_ncar_ccsm3_0_run1_200001.nc\n",
      "Tue Oct 25 13:29:43 2005: ncks -d time,0,239 sresa1b_ncar_ccsm3_0_run1_200001_209912.nc /var/www/html/tmp/sresa1b_ncar_ccsm3_0_run1_200001_201912.nc\n",
      "Thu Oct 20 10:47:50 2005: ncks -A -v va /data/brownmc/sresa1b/atm/mo/va/ncar_ccsm3_0/run1/sresa1b_ncar_ccsm3_0_run1_va_200001_209912.nc /data/brownmc/sresa1b/atm/mo/tas/ncar_ccsm3_0/run1/sresa1b_ncar_ccsm3_0_run1_200001_209912.nc\n",
      "Wed Oct 19 14:55:04 2005: ncks -F -d time,01,1200 /data/brownmc/sresa1b/atm/mo/va/ncar_ccsm3_0/run1/sresa1b_ncar_ccsm3_0_run1_va_200001_209912.nc /data/brownmc/sresa1b/atm/mo/va/ncar_ccsm3_0/run1/sresa1b_ncar_ccsm3_0_run1_va_200001_209912.nc\n",
      "Wed Oct 19 14:53:28 2005: ncrcat /data/brownmc/sresa1b/atm/mo/va/ncar_ccsm3_0/run1/foo_05_1200.nc /data/brownmc/sresa1b/atm/mo/va/ncar_ccsm3_0/run1/foo_1192_1196.nc /data/brownmc/sresa1b/atm/mo/va/ncar_ccsm3_0/run1/sresa1b_ncar_ccsm3_0_run1_va_200001_209912.nc\n",
      "Wed Oct 19 14:50:38 2005: ncks -F -d time,05,1200 /data/brownmc/sresa1b/atm/mo/va/ncar_ccsm3_0/run1/va_A1.SRESA1B_1.CCSM.atmm.2000-01_cat_2099-12.nc /data/brownmc/sresa1b/atm/mo/va/ncar_ccsm3_0/run1/foo_05_1200.nc\n",
      "Wed Oct 19 14:49:45 2005: ncrcat /data/brownmc/sresa1b/atm/mo/va/ncar_ccsm3_0/run1/va_A1.SRESA1B_1.CCSM.atmm.2000-01_cat_2079-12.nc /data/brownmc/sresa1b/atm/mo/va/ncar_ccsm3_0/run1/va_A1.SRESA1B_1.CCSM.atmm.2080-01_cat_2099-12.nc /data/brownmc/sresa1b/atm/mo/va/ncar_ccsm3_0/run1/va_A1.SRESA1B_1.CCSM.atmm.2000-01_cat_2099-12.nc\n",
      "Created from CCSM3 case b30.040a\n",
      " by wgstrand@ucar.edu\n",
      " on Wed Nov 17 14:12:57 EST 2004\n",
      " \n",
      " For all data, added IPCC requested metadata\n",
      "    table_id: Table A1\n",
      "    title: model output prepared for IPCC AR4\n",
      "    institution: NCAR (National Center for Atmospheric \n",
      "Research, Boulder, CO, USA)\n",
      "    source: CCSM3.0, version beta19 (2004): \n",
      "atmosphere: CAM3.0, T85L26;\n",
      "ocean     : POP1.4.3 (modified), gx1v3\n",
      "sea ice   : CSIM5.0, T85;\n",
      "land      : CLM3.0, gx1v3\n",
      "    contact: ccsm@ucar.edu\n",
      "    project_id: IPCC Fourth Assessment\n",
      "    Conventions: CF-1.0\n",
      "    references: Collins, W.D., et al., 2005:\n",
      " The Community Climate System Model, Version 3\n",
      " Journal of Climate\n",
      " \n",
      " Main website: http://www.ccsm.ucar.edu\n",
      "    acknowledgment:  Any use of CCSM data should acknowledge the contribution\n",
      " of the CCSM project and CCSM sponsor agencies with the \n",
      " following citation:\n",
      " 'This research uses data provided by the Community Climate\n",
      " System Model project (www.ccsm.ucar.edu), supported by the\n",
      " Directorate for Geosciences of the National Science Foundation\n",
      " and the Office of Biological and Environmental Research of\n",
      " the U.S. Department of Energy.'\n",
      "In addition, the words 'Community Climate System Model' and\n",
      " 'CCSM' should be included as metadata for webpages referencing\n",
      " work using CCSM data or as keywords provided to journal or book\n",
      "publishers of your manuscripts.\n",
      "Users of CCSM data accept the responsibility of emailing\n",
      " citations of publications of research using CCSM data to\n",
      " ccsm@ucar.edu.\n",
      "Any redistribution of CCSM data must include this data\n",
      " acknowledgement statement.\n",
      "    realization: 1\n",
      "    experiment_id: 720 ppm stabilization experiment (SRESA1B)\n",
      "    comment: This simulation was initiated from year 2000 of \n",
      " CCSM3 model run b30.030a and executed on \n",
      " hardware cheetah.ccs.ornl.gov. The input external forcings are\n",
      "ozone forcing    : A1B.ozone.128x64_L18_1991-2100_c040528.nc\n",
      "aerosol optics   : AerosolOptics_c040105.nc\n",
      "aerosol MMR      : AerosolMass_V_128x256_clim_c031022.nc\n",
      "carbon scaling   : carbonscaling_A1B_1990-2100_c040609.nc\n",
      "solar forcing    : Fixed at 1366.5 W m-2\n",
      "GHGs             : ghg_ipcc_A1B_1870-2100_c040521.nc\n",
      "GHG loss rates   : noaamisc.r8.nc\n",
      "volcanic forcing : none\n",
      "DMS emissions    : DMS_emissions_128x256_clim_c040122.nc\n",
      "oxidants         : oxid_128x256_L26_clim_c040112.nc\n",
      "SOx emissions    : SOx_emissions_A1B_128x256_L2_1990-2100_c040608.nc\n",
      " Physical constants used for derived data:\n",
      " Lv (latent heat of evaporation): 2.501e6 J kg-1\n",
      " Lf (latent heat of fusion     ): 3.337e5 J kg-1\n",
      " r[h2o] (density of water      ): 1000 kg m-3\n",
      " g2kg   (grams to kilograms    ): 1000 g kg-1\n",
      " \n",
      " Integrations were performed by NCAR and CRIEPI with support\n",
      " and facilities provided by NSF, DOE, MEXT and ESC/JAMSTEC.\n",
      "    model_name_english: NCAR CCSM\n",
      "    dimensions(sizes): lat(128), lon(256), bnds(2), plev(17), time(1)\n",
      "    variables(dimensions): float32 \u001b[4marea\u001b[0m(lat,lon), float32 \u001b[4mlat\u001b[0m(lat), float64 \u001b[4mlat_bnds\u001b[0m(lat,bnds), float32 \u001b[4mlon\u001b[0m(lon), float64 \u001b[4mlon_bnds\u001b[0m(lon,bnds), int32 \u001b[4mmsk_rgn\u001b[0m(lat,lon), float64 \u001b[4mplev\u001b[0m(plev), float32 \u001b[4mpr\u001b[0m(time,lat,lon), float32 \u001b[4mtas\u001b[0m(time,lat,lon), float64 \u001b[4mtime\u001b[0m(time), float64 \u001b[4mtime_bnds\u001b[0m(time,bnds), float32 \u001b[4mua\u001b[0m(time,plev,lat,lon)\n",
      "    groups: \n",
      "\n"
     ]
    },
    {
     "name": "stderr",
     "output_type": "stream",
     "text": [
      "C:\\Users\\Eric Gao\\Documents\\Python Scripts\\lib\\site-packages\\ipykernel_launcher.py:4: DeprecationWarning: tostring() is deprecated. Use tobytes() instead.\n",
      "  after removing the cwd from sys.path.\n"
     ]
    }
   ],
   "source": [
    "#using netCDF4 \n",
    "from netCDF4 import Dataset\n",
    "example_file1 = Dataset(\"sresa1b_ncar_ccsm3-example.nc\")\n",
    "#access metadata\n",
    "print(example_file1)"
   ]
  },
  {
   "cell_type": "code",
   "execution_count": 2,
   "id": "1d97dbe6",
   "metadata": {},
   "outputs": [
    {
     "name": "stdout",
     "output_type": "stream",
     "text": [
      "['area', 'lat', 'lat_bnds', 'lon', 'lon_bnds', 'msk_rgn', 'plev', 'pr', 'tas', 'time', 'time_bnds', 'ua']\n"
     ]
    }
   ],
   "source": [
    "#get variable names\n",
    "variable_names = []\n",
    "for name in example_file1.variables:\n",
    "    variable_names.append(name)\n",
    "print(variable_names)"
   ]
  },
  {
   "cell_type": "code",
   "execution_count": 3,
   "id": "48ceeb37",
   "metadata": {},
   "outputs": [
    {
     "name": "stdout",
     "output_type": "stream",
     "text": [
      "<class 'numpy.ma.core.MaskedArray'>\n"
     ]
    },
    {
     "name": "stderr",
     "output_type": "stream",
     "text": [
      "C:\\Users\\Eric Gao\\Documents\\Python Scripts\\lib\\site-packages\\ipykernel_launcher.py:4: DeprecationWarning: `np.bool` is a deprecated alias for the builtin `bool`. To silence this warning, use `bool` by itself. Doing this will not modify any behavior and is safe. If you specifically wanted the numpy scalar type, use `np.bool_` here.\n",
      "Deprecated in NumPy 1.20; for more details and guidance: https://numpy.org/devdocs/release/1.20.0-notes.html#deprecations\n",
      "  after removing the cwd from sys.path.\n"
     ]
    }
   ],
   "source": [
    "#array for values for each variable\n",
    "all_var_arrays = []\n",
    "for i in range(len(variable_names)):\n",
    "    all_var_arrays.append(example_file1[variable_names[i]][:])\n",
    "#all_var_arrays is a list that stores each variable's inputs as a numpy array, as we can see below.\n",
    "print(type(all_var_arrays[1]))"
   ]
  },
  {
   "cell_type": "code",
   "execution_count": 4,
   "id": "b01f0544",
   "metadata": {},
   "outputs": [
    {
     "name": "stdout",
     "output_type": "stream",
     "text": [
      "[[4.7346061e+08 4.7346061e+08 4.7346061e+08 ... 4.7346061e+08\n",
      "  4.7346061e+08 4.7346061e+08]\n",
      " [1.0407620e+09 1.0407620e+09 1.0407620e+09 ... 1.0407620e+09\n",
      "  1.0407620e+09 1.0407620e+09]\n",
      " [1.6355473e+09 1.6355473e+09 1.6355473e+09 ... 1.6355473e+09\n",
      "  1.6355473e+09 1.6355473e+09]\n",
      " ...\n",
      " [1.6355473e+09 1.6355473e+09 1.6355473e+09 ... 1.6355473e+09\n",
      "  1.6355473e+09 1.6355473e+09]\n",
      " [1.0407620e+09 1.0407620e+09 1.0407620e+09 ... 1.0407620e+09\n",
      "  1.0407620e+09 1.0407620e+09]\n",
      " [4.7346061e+08 4.7346061e+08 4.7346061e+08 ... 4.7346061e+08\n",
      "  4.7346061e+08 4.7346061e+08]]\n"
     ]
    }
   ],
   "source": [
    "#each array is a variable, for example, let's look at area and lat.\n",
    "#area\n",
    "print(all_var_arrays[0])"
   ]
  },
  {
   "cell_type": "code",
   "execution_count": 5,
   "id": "4a5b0f2c",
   "metadata": {},
   "outputs": [
    {
     "name": "stdout",
     "output_type": "stream",
     "text": [
      "[-88.927734  -87.538704  -86.14147   -84.742386  -83.3426    -81.94247\n",
      " -80.542145  -79.14171   -77.741196  -76.34063   -74.940025  -73.53939\n",
      " -72.13873   -70.73806   -69.33737   -67.936676  -66.535965  -65.135254\n",
      " -63.73453   -62.3338    -60.93307   -59.532337  -58.1316    -56.730858\n",
      " -55.330112  -53.929367  -52.528618  -51.127865  -49.727116  -48.326363\n",
      " -46.925606  -45.52485   -44.124092  -42.723335  -41.322575  -39.921818\n",
      " -38.521057  -37.120293  -35.719532  -34.31877   -32.918007  -31.517244\n",
      " -30.11648   -28.715715  -27.31495   -25.914186  -24.51342   -23.112656\n",
      " -21.71189   -20.311123  -18.910357  -17.50959   -16.108824  -14.708057\n",
      " -13.30729   -11.906524  -10.505756   -9.104989   -7.7042212  -6.303454\n",
      "  -4.9026866  -3.501919   -2.1011515  -0.7003838   0.7003838   2.1011515\n",
      "   3.501919    4.9026866   6.303454    7.7042212   9.104989   10.505756\n",
      "  11.906524   13.30729    14.708057   16.108824   17.50959    18.910357\n",
      "  20.311123   21.71189    23.112656   24.51342    25.914186   27.31495\n",
      "  28.715715   30.11648    31.517244   32.918007   34.31877    35.719532\n",
      "  37.120293   38.521057   39.921818   41.322575   42.723335   44.124092\n",
      "  45.52485    46.925606   48.326363   49.727116   51.127865   52.528618\n",
      "  53.929367   55.330112   56.730858   58.1316     59.532337   60.93307\n",
      "  62.3338     63.73453    65.135254   66.535965   67.936676   69.33737\n",
      "  70.73806    72.13873    73.53939    74.940025   76.34063    77.741196\n",
      "  79.14171    80.542145   81.94247    83.3426     84.742386   86.14147\n",
      "  87.538704   88.927734 ]\n"
     ]
    }
   ],
   "source": [
    "#lat variable\n",
    "print(all_var_arrays[1])"
   ]
  }
 ],
 "metadata": {
  "kernelspec": {
   "display_name": "Python 3",
   "language": "python",
   "name": "python3"
  },
  "language_info": {
   "codemirror_mode": {
    "name": "ipython",
    "version": 3
   },
   "file_extension": ".py",
   "mimetype": "text/x-python",
   "name": "python",
   "nbconvert_exporter": "python",
   "pygments_lexer": "ipython3",
   "version": "3.7.3"
  }
 },
 "nbformat": 4,
 "nbformat_minor": 5
}
